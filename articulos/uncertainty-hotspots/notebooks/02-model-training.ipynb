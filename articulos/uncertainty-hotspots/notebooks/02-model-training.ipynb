{
 "cells": [
  {
   "cell_type": "code",
   "execution_count": 1,
   "metadata": {},
   "outputs": [
    {
     "name": "stdout",
     "output_type": "stream",
     "text": [
      "Dummy RMSE: 6.55\n",
      "Poisson RMSE: 4.38\n"
     ]
    }
   ],
   "source": [
    "import sys, os\n",
    "import pandas as pd\n",
    "import numpy as np\n",
    "\n",
    "# Path del proyecto\n",
    "project_root = os.path.abspath(os.path.join(os.getcwd(), \"../../..\"))\n",
    "sys.path.insert(0, project_root)\n",
    "\n",
    "# Importar módulos creados\n",
    "from src.data_generation.hotspots import PoissonHotspots\n",
    "from src.models.baseline import train_dummy_regressor\n",
    "from src.models.poisson import train_poisson_regressor\n",
    "from sklearn.metrics import mean_squared_error\n",
    "from sklearn.model_selection import train_test_split\n",
    "\n",
    "# Generar datos\n",
    "hotspots_generator = PoissonHotspots(rows=5, cols=5, time_steps=20, random_state=42)\n",
    "data = hotspots_generator.generate()\n",
    "df = hotspots_generator.to_dataframe()\n",
    "\n",
    "# Crear features y target\n",
    "X = df[['timestep', 'row', 'col']]\n",
    "y = df['count']\n",
    "\n",
    "# División train/test rápida\n",
    "\n",
    "X_train, X_test, y_train, y_test = train_test_split(X, y, test_size=0.2, random_state=42)\n",
    "\n",
    "# Entrenar DummyRegressor\n",
    "dummy_model = train_dummy_regressor(X_train, y_train)\n",
    "dummy_pred = dummy_model.predict(X_test)\n",
    "\n",
    "# Entrenar PoissonRegressor\n",
    "poisson_model = train_poisson_regressor(X_train, y_train)\n",
    "poisson_pred = poisson_model.predict(X_test)\n",
    "\n",
    "# Evaluar rápidamente\n",
    "print(f\"Dummy RMSE: {np.sqrt(mean_squared_error(y_test, dummy_pred)):.2f}\")\n",
    "print(f\"Poisson RMSE: {np.sqrt(mean_squared_error(y_test, poisson_pred)):.2f}\")\n"
   ]
  },
  {
   "cell_type": "code",
   "execution_count": null,
   "metadata": {},
   "outputs": [],
   "source": []
  }
 ],
 "metadata": {
  "kernelspec": {
   "display_name": "uncertainty_env",
   "language": "python",
   "name": "python3"
  },
  "language_info": {
   "codemirror_mode": {
    "name": "ipython",
    "version": 3
   },
   "file_extension": ".py",
   "mimetype": "text/x-python",
   "name": "python",
   "nbconvert_exporter": "python",
   "pygments_lexer": "ipython3",
   "version": "3.11.9"
  }
 },
 "nbformat": 4,
 "nbformat_minor": 2
}
